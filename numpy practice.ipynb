{
 "cells": [
  {
   "cell_type": "code",
   "execution_count": 1,
   "metadata": {},
   "outputs": [],
   "source": [
    "import numpy as np"
   ]
  },
  {
   "cell_type": "code",
   "execution_count": 2,
   "metadata": {},
   "outputs": [
    {
     "data": {
      "text/plain": [
       "3"
      ]
     },
     "execution_count": 2,
     "metadata": {},
     "output_type": "execute_result"
    }
   ],
   "source": [
    "arr = np.array([[[1,2,3],[7,8,9]],[[1,2,3],[4,5,6]],[[1,2,3],[4,5,6]]])\n",
    "np.ndim(arr)"
   ]
  },
  {
   "cell_type": "code",
   "execution_count": 3,
   "metadata": {},
   "outputs": [
    {
     "data": {
      "text/plain": [
       "(3, 2, 3)"
      ]
     },
     "execution_count": 3,
     "metadata": {},
     "output_type": "execute_result"
    }
   ],
   "source": [
    "arr.shape"
   ]
  },
  {
   "cell_type": "code",
   "execution_count": 4,
   "metadata": {},
   "outputs": [
    {
     "data": {
      "text/plain": [
       "dtype('int32')"
      ]
     },
     "execution_count": 4,
     "metadata": {},
     "output_type": "execute_result"
    }
   ],
   "source": [
    "arr.dtype"
   ]
  },
  {
   "cell_type": "code",
   "execution_count": 5,
   "metadata": {},
   "outputs": [
    {
     "data": {
      "text/plain": [
       "numpy.ndarray"
      ]
     },
     "execution_count": 5,
     "metadata": {},
     "output_type": "execute_result"
    }
   ],
   "source": [
    "type(arr)"
   ]
  },
  {
   "cell_type": "code",
   "execution_count": 6,
   "metadata": {},
   "outputs": [],
   "source": [
    "arr = np.array([[[1,2,3],[7,8,9]],[[1,2,3],[4,5,6]],[[1,2,3],[4,5,6]]],dtype='int')\n"
   ]
  },
  {
   "cell_type": "code",
   "execution_count": 7,
   "metadata": {},
   "outputs": [
    {
     "data": {
      "text/plain": [
       "dtype('int32')"
      ]
     },
     "execution_count": 7,
     "metadata": {},
     "output_type": "execute_result"
    }
   ],
   "source": [
    "arr.dtype"
   ]
  },
  {
   "cell_type": "code",
   "execution_count": 8,
   "metadata": {},
   "outputs": [
    {
     "data": {
      "text/plain": [
       "array([[[0, 0, 0],\n",
       "        [0, 0, 0],\n",
       "        [0, 0, 0]],\n",
       "\n",
       "       [[0, 0, 0],\n",
       "        [0, 0, 0],\n",
       "        [0, 0, 0]],\n",
       "\n",
       "       [[0, 0, 0],\n",
       "        [0, 0, 0],\n",
       "        [0, 0, 0]]])"
      ]
     },
     "execution_count": 8,
     "metadata": {},
     "output_type": "execute_result"
    }
   ],
   "source": [
    "np.zeros((3,3,3),dtype='int')"
   ]
  },
  {
   "cell_type": "code",
   "execution_count": 9,
   "metadata": {},
   "outputs": [
    {
     "data": {
      "text/plain": [
       "array([[5.+0.j, 5.+0.j, 5.+0.j],\n",
       "       [5.+0.j, 5.+0.j, 5.+0.j],\n",
       "       [5.+0.j, 5.+0.j, 5.+0.j]])"
      ]
     },
     "execution_count": 9,
     "metadata": {},
     "output_type": "execute_result"
    }
   ],
   "source": [
    "np.full((3,3),5,dtype='complex')"
   ]
  },
  {
   "cell_type": "code",
   "execution_count": 10,
   "metadata": {},
   "outputs": [
    {
     "data": {
      "text/plain": [
       "array([[2.+3.j, 2.+3.j, 2.+3.j],\n",
       "       [2.+3.j, 2.+3.j, 2.+3.j],\n",
       "       [2.+3.j, 2.+3.j, 2.+3.j]])"
      ]
     },
     "execution_count": 10,
     "metadata": {},
     "output_type": "execute_result"
    }
   ],
   "source": [
    "shape = (3, 3)  # Shape of the array\n",
    "complex_value = 2 + 3j  # The complex value to fill the array with\n",
    "complex_array = np.full(shape, complex_value, dtype=complex)\n",
    "complex_array"
   ]
  },
  {
   "cell_type": "code",
   "execution_count": 11,
   "metadata": {},
   "outputs": [
    {
     "data": {
      "text/plain": [
       "array([[[[0.38669495, 0.21907331, 0.48975982, 0.47403078],\n",
       "         [0.62719717, 0.33323303, 0.0024663 , 0.81360814]],\n",
       "\n",
       "        [[0.54878494, 0.70606492, 0.77037769, 0.1056277 ],\n",
       "         [0.56283319, 0.3747303 , 0.87443584, 0.91036766]],\n",
       "\n",
       "        [[0.97833645, 0.09143304, 0.06745385, 0.43739476],\n",
       "         [0.92771168, 0.3509184 , 0.26855895, 0.81636576]]],\n",
       "\n",
       "\n",
       "       [[[0.99617891, 0.63103286, 0.31834132, 0.88136645],\n",
       "         [0.53289625, 0.00107602, 0.97526387, 0.40357748]],\n",
       "\n",
       "        [[0.35122557, 0.82224389, 0.82561106, 0.27549027],\n",
       "         [0.25543854, 0.96786467, 0.61889768, 0.57349673]],\n",
       "\n",
       "        [[0.07514959, 0.62066508, 0.69830472, 0.70556845],\n",
       "         [0.6629133 , 0.03604173, 0.26283974, 0.87511581]]],\n",
       "\n",
       "\n",
       "       [[[0.75124517, 0.51779953, 0.73123517, 0.14668768],\n",
       "         [0.21638188, 0.47165719, 0.25470695, 0.65776701]],\n",
       "\n",
       "        [[0.71386996, 0.26017017, 0.89586456, 0.35719737],\n",
       "         [0.25389885, 0.51637754, 0.72738664, 0.77358217]],\n",
       "\n",
       "        [[0.34815232, 0.498577  , 0.32246984, 0.12522025],\n",
       "         [0.24262929, 0.43103778, 0.78613   , 0.90658658]]]])"
      ]
     },
     "execution_count": 11,
     "metadata": {},
     "output_type": "execute_result"
    }
   ],
   "source": [
    "np.random.random((3,3,2,4))"
   ]
  },
  {
   "cell_type": "code",
   "execution_count": 12,
   "metadata": {},
   "outputs": [
    {
     "data": {
      "text/plain": [
       "array([ 1,  3,  5,  7,  9, 11, 13, 15, 17, 19, 21, 23, 25, 27, 29, 31, 33,\n",
       "       35, 37, 39, 41, 43, 45, 47, 49, 51, 53, 55, 57, 59, 61, 63, 65, 67,\n",
       "       69, 71, 73, 75, 77, 79, 81, 83, 85, 87, 89, 91, 93, 95, 97, 99])"
      ]
     },
     "execution_count": 12,
     "metadata": {},
     "output_type": "execute_result"
    }
   ],
   "source": [
    "np.arange(1,100,2)"
   ]
  },
  {
   "cell_type": "code",
   "execution_count": 13,
   "metadata": {},
   "outputs": [
    {
     "data": {
      "text/plain": [
       "array([ 1,  3,  5,  7,  9, 11, 13, 15, 17, 19, 21, 23, 25, 27, 29, 31, 33,\n",
       "       35, 37, 39, 41, 43, 45, 47, 49, 51, 53, 55, 57, 59, 61, 63, 65, 67,\n",
       "       69, 71, 73, 75, 77, 79, 81, 83, 85, 87, 89, 91, 93, 95, 97, 99])"
      ]
     },
     "execution_count": 13,
     "metadata": {},
     "output_type": "execute_result"
    }
   ],
   "source": [
    "np.arange(1,100,2)"
   ]
  },
  {
   "cell_type": "code",
   "execution_count": 14,
   "metadata": {},
   "outputs": [
    {
     "data": {
      "text/plain": [
       "array([0.        , 0.6981317 , 1.3962634 , 2.0943951 , 2.7925268 ,\n",
       "       3.4906585 , 4.1887902 , 4.88692191, 5.58505361, 6.28318531])"
      ]
     },
     "execution_count": 14,
     "metadata": {},
     "output_type": "execute_result"
    }
   ],
   "source": [
    "np.linspace(0,2*np.pi,10)"
   ]
  },
  {
   "cell_type": "code",
   "execution_count": 15,
   "metadata": {},
   "outputs": [
    {
     "data": {
      "text/plain": [
       "array([1, 2, 3, 7, 8, 9, 1, 2, 3, 4, 5, 6, 1, 2, 3, 4, 5, 6])"
      ]
     },
     "execution_count": 15,
     "metadata": {},
     "output_type": "execute_result"
    }
   ],
   "source": [
    "arr.flatten()"
   ]
  },
  {
   "cell_type": "code",
   "execution_count": 16,
   "metadata": {},
   "outputs": [
    {
     "data": {
      "text/plain": [
       "array([[[[0.35864131, 0.470505  ],\n",
       "         [0.95599764, 0.56834086]],\n",
       "\n",
       "        [[0.17404649, 0.9340453 ],\n",
       "         [0.05778034, 0.36272682]]],\n",
       "\n",
       "\n",
       "       [[[0.68495084, 0.91769219],\n",
       "         [0.7346528 , 0.92144239]],\n",
       "\n",
       "        [[0.49209375, 0.729098  ],\n",
       "         [0.76119739, 0.26076751]]]])"
      ]
     },
     "execution_count": 16,
     "metadata": {},
     "output_type": "execute_result"
    }
   ],
   "source": [
    "arr1 =  np.random.random((3,3,2,4))\n",
    "temp = arr1[:2,::2,::1,::2]\n",
    "temp"
   ]
  },
  {
   "cell_type": "code",
   "execution_count": 17,
   "metadata": {},
   "outputs": [
    {
     "name": "stdout",
     "output_type": "stream",
     "text": [
      "Element at (0, 1, 2, 3): 33\n",
      "Element at (1, 2, 2, 4): 114\n",
      "\n",
      "Slice at (0, :, 2, :):\n",
      " [[10 11 12 13 14]\n",
      " [30 31 32 33 34]\n",
      " [50 51 52 53 54]]\n",
      "\n",
      "Slice at (1, 1, :, :):\n",
      " [[80 81 82 83 84]\n",
      " [85 86 87 88 89]\n",
      " [90 91 92 93 94]\n",
      " [95 96 97 98 99]]\n"
     ]
    }
   ],
   "source": [
    "import numpy as np\n",
    "\n",
    "# Create a 4D array (shape: 2x3x4x5)\n",
    "four_d_array = np.arange(2*3*4*5).reshape(2, 3, 4, 5)\n",
    "\n",
    "# Access specific elements using integer indexing\n",
    "element_0_1_2_3 = four_d_array[0, 1, 2, 3]  # Access element at index (0, 1, 2, 3)\n",
    "element_1_2_2_4 = four_d_array[1, 2, 2, 4]  # Access element at index (1, 2, 2, 4)\n",
    "\n",
    "print(\"Element at (0, 1, 2, 3):\", element_0_1_2_3)\n",
    "print(\"Element at (1, 2, 2, 4):\", element_1_2_2_4)\n",
    "\n",
    "# Access slices of the 4D array using integer indexing\n",
    "slice_0_2 = four_d_array[0, :, 2, :]  # Access slice at index (0, :, 2, :)\n",
    "slice_1_1 = four_d_array[1, 1, :, :]  # Access slice at index (1, 1, :, :)\n",
    "\n",
    "print(\"\\nSlice at (0, :, 2, :):\\n\", slice_0_2)\n",
    "print(\"\\nSlice at (1, 1, :, :):\\n\", slice_1_1)\n"
   ]
  },
  {
   "cell_type": "code",
   "execution_count": 18,
   "metadata": {},
   "outputs": [
    {
     "data": {
      "text/plain": [
       "array([[[[  0,   1,   2,   3,   4],\n",
       "         [  5,   6,   7,   8,   9],\n",
       "         [ 10,  11,  12,  13,  14],\n",
       "         [ 15,  16,  17,  18,  19]],\n",
       "\n",
       "        [[ 20,  21,  22,  23,  24],\n",
       "         [ 25,  26,  27,  28,  29],\n",
       "         [ 30,  31,  32,  33,  34],\n",
       "         [ 35,  36,  37,  38,  39]],\n",
       "\n",
       "        [[ 40,  41,  42,  43,  44],\n",
       "         [ 45,  46,  47,  48,  49],\n",
       "         [ 50,  51,  52,  53,  54],\n",
       "         [ 55,  56,  57,  58,  59]]],\n",
       "\n",
       "\n",
       "       [[[ 60,  61,  62,  63,  64],\n",
       "         [ 65,  66,  67,  68,  69],\n",
       "         [ 70,  71,  72,  73,  74],\n",
       "         [ 75,  76,  77,  78,  79]],\n",
       "\n",
       "        [[ 80,  81,  82,  83,  84],\n",
       "         [ 85,  86,  87,  88,  89],\n",
       "         [ 90,  91,  92,  93,  94],\n",
       "         [ 95,  96,  97,  98,  99]],\n",
       "\n",
       "        [[100, 101, 102, 103, 104],\n",
       "         [105, 106, 107, 108, 109],\n",
       "         [110, 111, 112, 113, 114],\n",
       "         [115, 116, 117, 118, 119]]]])"
      ]
     },
     "execution_count": 18,
     "metadata": {},
     "output_type": "execute_result"
    }
   ],
   "source": [
    "four_d_array\n"
   ]
  },
  {
   "cell_type": "code",
   "execution_count": 19,
   "metadata": {},
   "outputs": [
    {
     "data": {
      "text/plain": [
       "array([ 26,  27,  28,  29,  30,  31,  32,  33,  34,  35,  36,  37,  38,\n",
       "        39,  40,  41,  42,  43,  44,  45,  46,  47,  48,  49,  50,  51,\n",
       "        52,  53,  54,  55,  56,  57,  58,  59,  60,  61,  62,  63,  64,\n",
       "        65,  66,  67,  68,  69,  70,  71,  72,  73,  74,  75,  76,  77,\n",
       "        78,  79,  80,  81,  82,  83,  84,  85,  86,  87,  88,  89,  90,\n",
       "        91,  92,  93,  94,  95,  96,  97,  98,  99, 100, 101, 102, 103,\n",
       "       104, 105, 106, 107, 108, 109, 110, 111, 112, 113, 114, 115, 116,\n",
       "       117, 118, 119])"
      ]
     },
     "execution_count": 19,
     "metadata": {},
     "output_type": "execute_result"
    }
   ],
   "source": [
    "con = four_d_array>25\n",
    "temp = four_d_array[con]\n",
    "temp"
   ]
  },
  {
   "cell_type": "code",
   "execution_count": 20,
   "metadata": {},
   "outputs": [
    {
     "data": {
      "text/plain": [
       "array([[[[  0,  60],\n",
       "         [ 20,  80],\n",
       "         [ 40, 100]],\n",
       "\n",
       "        [[  5,  65],\n",
       "         [ 25,  85],\n",
       "         [ 45, 105]],\n",
       "\n",
       "        [[ 10,  70],\n",
       "         [ 30,  90],\n",
       "         [ 50, 110]],\n",
       "\n",
       "        [[ 15,  75],\n",
       "         [ 35,  95],\n",
       "         [ 55, 115]]],\n",
       "\n",
       "\n",
       "       [[[  1,  61],\n",
       "         [ 21,  81],\n",
       "         [ 41, 101]],\n",
       "\n",
       "        [[  6,  66],\n",
       "         [ 26,  86],\n",
       "         [ 46, 106]],\n",
       "\n",
       "        [[ 11,  71],\n",
       "         [ 31,  91],\n",
       "         [ 51, 111]],\n",
       "\n",
       "        [[ 16,  76],\n",
       "         [ 36,  96],\n",
       "         [ 56, 116]]],\n",
       "\n",
       "\n",
       "       [[[  2,  62],\n",
       "         [ 22,  82],\n",
       "         [ 42, 102]],\n",
       "\n",
       "        [[  7,  67],\n",
       "         [ 27,  87],\n",
       "         [ 47, 107]],\n",
       "\n",
       "        [[ 12,  72],\n",
       "         [ 32,  92],\n",
       "         [ 52, 112]],\n",
       "\n",
       "        [[ 17,  77],\n",
       "         [ 37,  97],\n",
       "         [ 57, 117]]],\n",
       "\n",
       "\n",
       "       [[[  3,  63],\n",
       "         [ 23,  83],\n",
       "         [ 43, 103]],\n",
       "\n",
       "        [[  8,  68],\n",
       "         [ 28,  88],\n",
       "         [ 48, 108]],\n",
       "\n",
       "        [[ 13,  73],\n",
       "         [ 33,  93],\n",
       "         [ 53, 113]],\n",
       "\n",
       "        [[ 18,  78],\n",
       "         [ 38,  98],\n",
       "         [ 58, 118]]],\n",
       "\n",
       "\n",
       "       [[[  4,  64],\n",
       "         [ 24,  84],\n",
       "         [ 44, 104]],\n",
       "\n",
       "        [[  9,  69],\n",
       "         [ 29,  89],\n",
       "         [ 49, 109]],\n",
       "\n",
       "        [[ 14,  74],\n",
       "         [ 34,  94],\n",
       "         [ 54, 114]],\n",
       "\n",
       "        [[ 19,  79],\n",
       "         [ 39,  99],\n",
       "         [ 59, 119]]]])"
      ]
     },
     "execution_count": 20,
     "metadata": {},
     "output_type": "execute_result"
    }
   ],
   "source": [
    "four_d_array.T"
   ]
  },
  {
   "cell_type": "code",
   "execution_count": 21,
   "metadata": {},
   "outputs": [
    {
     "data": {
      "text/plain": [
       "array([[[ 60,  61,  62,  63,  64],\n",
       "        [ 65,  66,  67,  68,  69],\n",
       "        [ 70,  71,  72,  73,  74],\n",
       "        [ 75,  76,  77,  78,  79]],\n",
       "\n",
       "       [[ 80,  81,  82,  83,  84],\n",
       "        [ 85,  86,  87,  88,  89],\n",
       "        [ 90,  91,  92,  93,  94],\n",
       "        [ 95,  96,  97,  98,  99]],\n",
       "\n",
       "       [[100, 101, 102, 103, 104],\n",
       "        [105, 106, 107, 108, 109],\n",
       "        [110, 111, 112, 113, 114],\n",
       "        [115, 116, 117, 118, 119]]])"
      ]
     },
     "execution_count": 21,
     "metadata": {},
     "output_type": "execute_result"
    }
   ],
   "source": [
    "four_d_array.max(axis=0\n",
    ")"
   ]
  },
  {
   "cell_type": "code",
   "execution_count": 22,
   "metadata": {},
   "outputs": [
    {
     "data": {
      "text/plain": [
       "array([[[ 60,  63,  66,  69,  72],\n",
       "        [ 75,  78,  81,  84,  87],\n",
       "        [ 90,  93,  96,  99, 102],\n",
       "        [105, 108, 111, 114, 117]],\n",
       "\n",
       "       [[240, 243, 246, 249, 252],\n",
       "        [255, 258, 261, 264, 267],\n",
       "        [270, 273, 276, 279, 282],\n",
       "        [285, 288, 291, 294, 297]]])"
      ]
     },
     "execution_count": 22,
     "metadata": {},
     "output_type": "execute_result"
    }
   ],
   "source": [
    "np.sum(four_d_array,axis=1)"
   ]
  },
  {
   "cell_type": "code",
   "execution_count": 23,
   "metadata": {},
   "outputs": [
    {
     "data": {
      "text/plain": [
       "array([[[[  0,   1,   2,   3,   4],\n",
       "         [  5,   6,   7,   8,   9],\n",
       "         [ 10,  11,  12,  13,  14],\n",
       "         [ 15,  16,  17,  18,  19]],\n",
       "\n",
       "        [[ 20,  21,  22,  23,  24],\n",
       "         [ 25,  26,  27,  28,  29],\n",
       "         [ 30,  31,  32,  33,  34],\n",
       "         [ 35,  36,  37,  38,  39]],\n",
       "\n",
       "        [[ 40,  41,  42,  43,  44],\n",
       "         [ 45,  46,  47,  48,  49],\n",
       "         [ 50,  51,  52,  53,  54],\n",
       "         [ 55,  56,  57,  58,  59]]],\n",
       "\n",
       "\n",
       "       [[[ 60,  61,  62,  63,  64],\n",
       "         [ 65,  66,  67,  68,  69],\n",
       "         [ 70,  71,  72,  73,  74],\n",
       "         [ 75,  76,  77,  78,  79]],\n",
       "\n",
       "        [[ 80,  81,  82,  83,  84],\n",
       "         [ 85,  86,  87,  88,  89],\n",
       "         [ 90,  91,  92,  93,  94],\n",
       "         [ 95,  96,  97,  98,  99]],\n",
       "\n",
       "        [[100, 101, 102, 103, 104],\n",
       "         [105, 106, 107, 108, 109],\n",
       "         [110, 111, 112, 113, 114],\n",
       "         [115, 116, 117, 118, 119]]]])"
      ]
     },
     "execution_count": 23,
     "metadata": {},
     "output_type": "execute_result"
    }
   ],
   "source": [
    "np.sort(four_d_array,axis=0)"
   ]
  },
  {
   "cell_type": "code",
   "execution_count": 24,
   "metadata": {},
   "outputs": [
    {
     "data": {
      "text/plain": [
       "array([[[[59, 58, 57, 56, 55],\n",
       "         [54, 53, 52, 51, 50],\n",
       "         [49, 48, 47, 46, 45],\n",
       "         [44, 43, 42, 41, 40]],\n",
       "\n",
       "        [[39, 38, 37, 36, 35],\n",
       "         [34, 33, 32, 31, 30],\n",
       "         [29, 28, 27, 26, 25],\n",
       "         [24, 23, 22, 21, 20]],\n",
       "\n",
       "        [[19, 18, 17, 16, 15],\n",
       "         [14, 13, 12, 11, 10],\n",
       "         [ 9,  8,  7,  6,  5],\n",
       "         [ 4,  3,  2,  1,  0]]]])"
      ]
     },
     "execution_count": 24,
     "metadata": {},
     "output_type": "execute_result"
    }
   ],
   "source": [
    "four_d_array[:-1,::-1,::-1,::-1]"
   ]
  },
  {
   "cell_type": "code",
   "execution_count": 25,
   "metadata": {},
   "outputs": [
    {
     "data": {
      "text/plain": [
       "array([ 0.,  1.,  4.,  9., 16., 25., 36., 49.])"
      ]
     },
     "execution_count": 25,
     "metadata": {},
     "output_type": "execute_result"
    }
   ],
   "source": [
    "iterable = (x*x for x in range(8))\n",
    "np.fromiter(iterable,dtype = 'float',count=-1)"
   ]
  },
  {
   "cell_type": "code",
   "execution_count": 26,
   "metadata": {},
   "outputs": [
    {
     "data": {
      "text/plain": [
       "array([['', '', ''],\n",
       "       ['', '', '']], dtype='<U1')"
      ]
     },
     "execution_count": 26,
     "metadata": {},
     "output_type": "execute_result"
    }
   ],
   "source": [
    "np.empty((2,3),dtype='str',order = 'c')"
   ]
  },
  {
   "cell_type": "code",
   "execution_count": 27,
   "metadata": {},
   "outputs": [],
   "source": [
    "from functools import reduce"
   ]
  },
  {
   "cell_type": "code",
   "execution_count": 28,
   "metadata": {},
   "outputs": [
    {
     "data": {
      "text/plain": [
       "array([0, 1, 2, 3, 4, 6])"
      ]
     },
     "execution_count": 28,
     "metadata": {},
     "output_type": "execute_result"
    }
   ],
   "source": [
    "array = reduce(np.union1d,([1,2,3],[2,3,1],[2,4,6],[0,0,0]))\n",
    "array"
   ]
  },
  {
   "cell_type": "code",
   "execution_count": 31,
   "metadata": {},
   "outputs": [
    {
     "data": {
      "text/plain": [
       "array([1, 2, 3, 4, 6])"
      ]
     },
     "execution_count": 31,
     "metadata": {},
     "output_type": "execute_result"
    }
   ],
   "source": [
    "np.trim_zeros(array,'f')"
   ]
  },
  {
   "cell_type": "code",
   "execution_count": 34,
   "metadata": {},
   "outputs": [
    {
     "data": {
      "text/plain": [
       "array([[1., 0., 0., 0.],\n",
       "       [0., 1., 0., 0.],\n",
       "       [0., 0., 1., 0.]])"
      ]
     },
     "execution_count": 34,
     "metadata": {},
     "output_type": "execute_result"
    }
   ],
   "source": [
    "np.eye(3,4,k=0,dtype='float',order= 'c')"
   ]
  },
  {
   "cell_type": "code",
   "execution_count": 35,
   "metadata": {},
   "outputs": [],
   "source": [
    "import numpy.matlib"
   ]
  },
  {
   "cell_type": "code",
   "execution_count": 39,
   "metadata": {},
   "outputs": [
    {
     "data": {
      "text/plain": [
       "matrix([[1., 0., 0., 0., 0.],\n",
       "        [0., 1., 0., 0., 0.],\n",
       "        [0., 0., 1., 0., 0.],\n",
       "        [0., 0., 0., 1., 0.],\n",
       "        [0., 0., 0., 0., 1.]])"
      ]
     },
     "execution_count": 39,
     "metadata": {},
     "output_type": "execute_result"
    }
   ],
   "source": [
    "np.matlib.identity(5)"
   ]
  },
  {
   "cell_type": "code",
   "execution_count": 42,
   "metadata": {},
   "outputs": [
    {
     "data": {
      "text/plain": [
       "matrix([[0., 0., 0., 0., 0.],\n",
       "        [0., 0., 0., 0., 0.],\n",
       "        [1., 0., 0., 0., 0.],\n",
       "        [0., 1., 0., 0., 0.],\n",
       "        [0., 0., 1., 0., 0.]])"
      ]
     },
     "execution_count": 42,
     "metadata": {},
     "output_type": "execute_result"
    }
   ],
   "source": [
    "np.eye(5,5,k=-2) @ np.matlib.identity(5) \n"
   ]
  },
  {
   "cell_type": "code",
   "execution_count": 43,
   "metadata": {},
   "outputs": [],
   "source": [
    "from numpy import linalg as la"
   ]
  },
  {
   "cell_type": "code",
   "execution_count": 45,
   "metadata": {},
   "outputs": [
    {
     "data": {
      "text/plain": [
       "array([-0.37228132,  5.37228132])"
      ]
     },
     "execution_count": 45,
     "metadata": {},
     "output_type": "execute_result"
    }
   ],
   "source": [
    "la.eigvals([[1,2],[3,4]])"
   ]
  },
  {
   "cell_type": "code",
   "execution_count": 46,
   "metadata": {},
   "outputs": [
    {
     "name": "stdout",
     "output_type": "stream",
     "text": [
      "Data: [10 20 30 40 50 60 70 80 90]\n",
      "Peak-to-Peak Range: 80\n"
     ]
    }
   ],
   "source": [
    "import numpy as np\n",
    "\n",
    "# Create an array of data\n",
    "data = np.array([10, 20, 30, 40, 50, 60, 70, 80, 90])\n",
    "\n",
    "# Calculate the peak-to-peak range\n",
    "range_value = np.ptp(data)\n",
    "\n",
    "print(\"Data:\", data)\n",
    "print(\"Peak-to-Peak Range:\", range_value)\n"
   ]
  },
  {
   "cell_type": "code",
   "execution_count": 49,
   "metadata": {},
   "outputs": [
    {
     "data": {
      "text/plain": [
       "array([1, 4, 9, 16, 25, 36, 49, 64, 81, 100], dtype=object)"
      ]
     },
     "execution_count": 49,
     "metadata": {},
     "output_type": "execute_result"
    }
   ],
   "source": [
    "def fun(val):\n",
    "    return (val**2)\n",
    "\n",
    "power = np.frompyfunc(fun,1,1)\n",
    "arr = np.arange(1,11,1)\n",
    "mod_arr = power(arr)\n",
    "mod_arr"
   ]
  }
 ],
 "metadata": {
  "kernelspec": {
   "display_name": "base",
   "language": "python",
   "name": "python3"
  },
  "language_info": {
   "codemirror_mode": {
    "name": "ipython",
    "version": 3
   },
   "file_extension": ".py",
   "mimetype": "text/x-python",
   "name": "python",
   "nbconvert_exporter": "python",
   "pygments_lexer": "ipython3",
   "version": "3.10.12"
  },
  "orig_nbformat": 4
 },
 "nbformat": 4,
 "nbformat_minor": 2
}
